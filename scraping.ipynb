{
 "cells": [
  {
   "cell_type": "code",
   "execution_count": 34,
   "metadata": {},
   "outputs": [],
   "source": [
    "import requests\n",
    "from bs4 import BeautifulSoup\n",
    "import pandas as pd\n",
    "\n",
    "def scrape_coaches_year(url):\n",
    "    coaches = pd.read_html(url)\n",
    "    return coaches"
   ]
  },
  {
   "cell_type": "code",
   "execution_count": 107,
   "metadata": {},
   "outputs": [],
   "source": [
    "def scrape_all_seasons(first_year, last_year):\n",
    "    all_seasons = pd.DataFrame()\n",
    "    for year in range(first_year, last_year + 1):\n",
    "        url = f'https://www.basketball-reference.com/leagues/NBA_{year}_coaches.html'\n",
    "        year_data = scrape_coaches_year(url)[0]\n",
    "        year_data['Year'] = year\n",
    "        if year == first_year:\n",
    "            all_seasons = year_data\n",
    "        else:\n",
    "            all_seasons = pd.concat([all_seasons, year_data], axis=0, ignore_index=True)\n",
    "    return all_seasons\n"
   ]
  },
  {
   "cell_type": "code",
   "execution_count": 108,
   "metadata": {},
   "outputs": [],
   "source": [
    "since_2000 = scrape_all_seasons(2000, 2023)"
   ]
  },
  {
   "cell_type": "code",
   "execution_count": 109,
   "metadata": {},
   "outputs": [],
   "source": [
    "since_2000.columns = [' '.join(col).strip() for col in since_2000.columns]"
   ]
  },
  {
   "cell_type": "code",
   "execution_count": 110,
   "metadata": {},
   "outputs": [
    {
     "data": {
      "text/plain": [
       "Index(['Unnamed: 0_level_0 Unnamed: 0_level_1 Coach',\n",
       "       'Unnamed: 1_level_0 Unnamed: 1_level_1 Tm',\n",
       "       'Unnamed: 2_level_0 Unnamed: 2_level_1 Unnamed: 2_level_2',\n",
       "       'Seasons w/ Franch #', 'Seasons Overall #',\n",
       "       'Unnamed: 5_level_0 Unnamed: 5_level_1 Unnamed: 5_level_2',\n",
       "       'Regular Season Current Season G', 'Regular Season Current Season W',\n",
       "       'Regular Season Current Season L', 'Regular Season w/ Franchise G',\n",
       "       'Regular Season w/ Franchise W', 'Regular Season w/ Franchise L',\n",
       "       'Regular Season Career G', 'Regular Season Career W',\n",
       "       'Regular Season Career L', 'Regular Season Career W%',\n",
       "       'Unnamed: 16_level_0 Unnamed: 16_level_1 Unnamed: 16_level_2',\n",
       "       'Playoffs Current Season G', 'Playoffs Current Season W',\n",
       "       'Playoffs Current Season L', 'Playoffs w/ Franchise G',\n",
       "       'Playoffs w/ Franchise W', 'Playoffs w/ Franchise L',\n",
       "       'Playoffs Career G', 'Playoffs Career W', 'Playoffs Career L', 'Year'],\n",
       "      dtype='object')"
      ]
     },
     "execution_count": 110,
     "metadata": {},
     "output_type": "execute_result"
    }
   ],
   "source": [
    "since_2000.columns"
   ]
  },
  {
   "cell_type": "code",
   "execution_count": 111,
   "metadata": {},
   "outputs": [],
   "source": [
    "store_og_columns = since_2000.columns.copy()"
   ]
  },
  {
   "cell_type": "code",
   "execution_count": 112,
   "metadata": {},
   "outputs": [],
   "source": [
    "since_2000.columns = [x.replace('Unnamed: ', '').replace('_level_', '').replace('1', '').replace('0', '').replace('5', '').replace('6', '').replace('2', '').replace('  ', '') for x in since_2000.columns]"
   ]
  },
  {
   "cell_type": "code",
   "execution_count": 113,
   "metadata": {},
   "outputs": [],
   "source": [
    "since_2000.drop(columns=[''], inplace=True)"
   ]
  },
  {
   "cell_type": "code",
   "execution_count": 114,
   "metadata": {},
   "outputs": [
    {
     "data": {
      "text/html": [
       "<div>\n",
       "<style scoped>\n",
       "    .dataframe tbody tr th:only-of-type {\n",
       "        vertical-align: middle;\n",
       "    }\n",
       "\n",
       "    .dataframe tbody tr th {\n",
       "        vertical-align: top;\n",
       "    }\n",
       "\n",
       "    .dataframe thead th {\n",
       "        text-align: right;\n",
       "    }\n",
       "</style>\n",
       "<table border=\"1\" class=\"dataframe\">\n",
       "  <thead>\n",
       "    <tr style=\"text-align: right;\">\n",
       "      <th></th>\n",
       "      <th>Coach</th>\n",
       "      <th>Tm</th>\n",
       "      <th>Seasons w/ Franch #</th>\n",
       "      <th>Seasons Overall #</th>\n",
       "      <th>Regular Season Current Season G</th>\n",
       "      <th>Regular Season Current Season W</th>\n",
       "      <th>Regular Season Current Season L</th>\n",
       "      <th>Regular Season w/ Franchise G</th>\n",
       "      <th>Regular Season w/ Franchise W</th>\n",
       "      <th>Regular Season w/ Franchise L</th>\n",
       "      <th>Regular Season Career G</th>\n",
       "      <th>Regular Season Career W</th>\n",
       "      <th>Regular Season Career L</th>\n",
       "      <th>Regular Season Career W%</th>\n",
       "      <th>Playoffs Current Season G</th>\n",
       "      <th>Playoffs Current Season W</th>\n",
       "      <th>Playoffs Current Season L</th>\n",
       "      <th>Playoffs w/ Franchise G</th>\n",
       "      <th>Playoffs w/ Franchise W</th>\n",
       "      <th>Playoffs w/ Franchise L</th>\n",
       "      <th>Playoffs Career G</th>\n",
       "      <th>Playoffs Career W</th>\n",
       "      <th>Playoffs Career L</th>\n",
       "      <th>Year</th>\n",
       "    </tr>\n",
       "  </thead>\n",
       "  <tbody>\n",
       "    <tr>\n",
       "      <th>0</th>\n",
       "      <td>Lenny Wilkens</td>\n",
       "      <td>ATL</td>\n",
       "      <td>7</td>\n",
       "      <td>27</td>\n",
       "      <td>82</td>\n",
       "      <td>28</td>\n",
       "      <td>54</td>\n",
       "      <td>542</td>\n",
       "      <td>310</td>\n",
       "      <td>232</td>\n",
       "      <td>2160</td>\n",
       "      <td>1179</td>\n",
       "      <td>981</td>\n",
       "      <td>0.546</td>\n",
       "      <td>NaN</td>\n",
       "      <td>NaN</td>\n",
       "      <td>NaN</td>\n",
       "      <td>47.0</td>\n",
       "      <td>17.0</td>\n",
       "      <td>30.0</td>\n",
       "      <td>157.0</td>\n",
       "      <td>72.0</td>\n",
       "      <td>85.0</td>\n",
       "      <td>2000</td>\n",
       "    </tr>\n",
       "    <tr>\n",
       "      <th>1</th>\n",
       "      <td>Rick Pitino</td>\n",
       "      <td>BOS</td>\n",
       "      <td>3</td>\n",
       "      <td>5</td>\n",
       "      <td>82</td>\n",
       "      <td>35</td>\n",
       "      <td>47</td>\n",
       "      <td>214</td>\n",
       "      <td>90</td>\n",
       "      <td>124</td>\n",
       "      <td>378</td>\n",
       "      <td>180</td>\n",
       "      <td>198</td>\n",
       "      <td>0.476</td>\n",
       "      <td>NaN</td>\n",
       "      <td>NaN</td>\n",
       "      <td>NaN</td>\n",
       "      <td>NaN</td>\n",
       "      <td>NaN</td>\n",
       "      <td>NaN</td>\n",
       "      <td>13.0</td>\n",
       "      <td>6.0</td>\n",
       "      <td>7.0</td>\n",
       "      <td>2000</td>\n",
       "    </tr>\n",
       "    <tr>\n",
       "      <th>2</th>\n",
       "      <td>Paul Silas</td>\n",
       "      <td>CHH</td>\n",
       "      <td>2</td>\n",
       "      <td>5</td>\n",
       "      <td>82</td>\n",
       "      <td>49</td>\n",
       "      <td>33</td>\n",
       "      <td>117</td>\n",
       "      <td>71</td>\n",
       "      <td>46</td>\n",
       "      <td>363</td>\n",
       "      <td>149</td>\n",
       "      <td>214</td>\n",
       "      <td>0.410</td>\n",
       "      <td>4.0</td>\n",
       "      <td>1.0</td>\n",
       "      <td>3.0</td>\n",
       "      <td>4.0</td>\n",
       "      <td>1.0</td>\n",
       "      <td>3.0</td>\n",
       "      <td>4.0</td>\n",
       "      <td>1.0</td>\n",
       "      <td>3.0</td>\n",
       "      <td>2000</td>\n",
       "    </tr>\n",
       "    <tr>\n",
       "      <th>3</th>\n",
       "      <td>Tim Floyd</td>\n",
       "      <td>CHI</td>\n",
       "      <td>2</td>\n",
       "      <td>2</td>\n",
       "      <td>82</td>\n",
       "      <td>17</td>\n",
       "      <td>65</td>\n",
       "      <td>132</td>\n",
       "      <td>30</td>\n",
       "      <td>102</td>\n",
       "      <td>132</td>\n",
       "      <td>30</td>\n",
       "      <td>102</td>\n",
       "      <td>0.227</td>\n",
       "      <td>NaN</td>\n",
       "      <td>NaN</td>\n",
       "      <td>NaN</td>\n",
       "      <td>NaN</td>\n",
       "      <td>NaN</td>\n",
       "      <td>NaN</td>\n",
       "      <td>NaN</td>\n",
       "      <td>NaN</td>\n",
       "      <td>NaN</td>\n",
       "      <td>2000</td>\n",
       "    </tr>\n",
       "    <tr>\n",
       "      <th>4</th>\n",
       "      <td>Randy Wittman</td>\n",
       "      <td>CLE</td>\n",
       "      <td>1</td>\n",
       "      <td>1</td>\n",
       "      <td>82</td>\n",
       "      <td>32</td>\n",
       "      <td>50</td>\n",
       "      <td>82</td>\n",
       "      <td>32</td>\n",
       "      <td>50</td>\n",
       "      <td>82</td>\n",
       "      <td>32</td>\n",
       "      <td>50</td>\n",
       "      <td>0.390</td>\n",
       "      <td>NaN</td>\n",
       "      <td>NaN</td>\n",
       "      <td>NaN</td>\n",
       "      <td>NaN</td>\n",
       "      <td>NaN</td>\n",
       "      <td>NaN</td>\n",
       "      <td>NaN</td>\n",
       "      <td>NaN</td>\n",
       "      <td>NaN</td>\n",
       "      <td>2000</td>\n",
       "    </tr>\n",
       "    <tr>\n",
       "      <th>...</th>\n",
       "      <td>...</td>\n",
       "      <td>...</td>\n",
       "      <td>...</td>\n",
       "      <td>...</td>\n",
       "      <td>...</td>\n",
       "      <td>...</td>\n",
       "      <td>...</td>\n",
       "      <td>...</td>\n",
       "      <td>...</td>\n",
       "      <td>...</td>\n",
       "      <td>...</td>\n",
       "      <td>...</td>\n",
       "      <td>...</td>\n",
       "      <td>...</td>\n",
       "      <td>...</td>\n",
       "      <td>...</td>\n",
       "      <td>...</td>\n",
       "      <td>...</td>\n",
       "      <td>...</td>\n",
       "      <td>...</td>\n",
       "      <td>...</td>\n",
       "      <td>...</td>\n",
       "      <td>...</td>\n",
       "      <td>...</td>\n",
       "    </tr>\n",
       "    <tr>\n",
       "      <th>805</th>\n",
       "      <td>Mike Brown</td>\n",
       "      <td>SAC</td>\n",
       "      <td>1</td>\n",
       "      <td>9</td>\n",
       "      <td>82</td>\n",
       "      <td>48</td>\n",
       "      <td>34</td>\n",
       "      <td>82</td>\n",
       "      <td>48</td>\n",
       "      <td>34</td>\n",
       "      <td>645</td>\n",
       "      <td>395</td>\n",
       "      <td>250</td>\n",
       "      <td>0.612</td>\n",
       "      <td>7.0</td>\n",
       "      <td>3.0</td>\n",
       "      <td>4.0</td>\n",
       "      <td>7.0</td>\n",
       "      <td>3.0</td>\n",
       "      <td>4.0</td>\n",
       "      <td>90.0</td>\n",
       "      <td>50.0</td>\n",
       "      <td>40.0</td>\n",
       "      <td>2023</td>\n",
       "    </tr>\n",
       "    <tr>\n",
       "      <th>806</th>\n",
       "      <td>Gregg Popovich</td>\n",
       "      <td>SAS</td>\n",
       "      <td>27</td>\n",
       "      <td>27</td>\n",
       "      <td>82</td>\n",
       "      <td>22</td>\n",
       "      <td>60</td>\n",
       "      <td>2127</td>\n",
       "      <td>1366</td>\n",
       "      <td>761</td>\n",
       "      <td>2127</td>\n",
       "      <td>1366</td>\n",
       "      <td>761</td>\n",
       "      <td>0.642</td>\n",
       "      <td>NaN</td>\n",
       "      <td>NaN</td>\n",
       "      <td>NaN</td>\n",
       "      <td>284.0</td>\n",
       "      <td>170.0</td>\n",
       "      <td>114.0</td>\n",
       "      <td>284.0</td>\n",
       "      <td>170.0</td>\n",
       "      <td>114.0</td>\n",
       "      <td>2023</td>\n",
       "    </tr>\n",
       "    <tr>\n",
       "      <th>807</th>\n",
       "      <td>Nick Nurse</td>\n",
       "      <td>TOR</td>\n",
       "      <td>5</td>\n",
       "      <td>5</td>\n",
       "      <td>82</td>\n",
       "      <td>41</td>\n",
       "      <td>41</td>\n",
       "      <td>390</td>\n",
       "      <td>227</td>\n",
       "      <td>163</td>\n",
       "      <td>390</td>\n",
       "      <td>227</td>\n",
       "      <td>163</td>\n",
       "      <td>0.582</td>\n",
       "      <td>NaN</td>\n",
       "      <td>NaN</td>\n",
       "      <td>NaN</td>\n",
       "      <td>41.0</td>\n",
       "      <td>25.0</td>\n",
       "      <td>16.0</td>\n",
       "      <td>41.0</td>\n",
       "      <td>25.0</td>\n",
       "      <td>16.0</td>\n",
       "      <td>2023</td>\n",
       "    </tr>\n",
       "    <tr>\n",
       "      <th>808</th>\n",
       "      <td>Will Hardy</td>\n",
       "      <td>UTA</td>\n",
       "      <td>1</td>\n",
       "      <td>1</td>\n",
       "      <td>82</td>\n",
       "      <td>37</td>\n",
       "      <td>45</td>\n",
       "      <td>82</td>\n",
       "      <td>37</td>\n",
       "      <td>45</td>\n",
       "      <td>82</td>\n",
       "      <td>37</td>\n",
       "      <td>45</td>\n",
       "      <td>0.451</td>\n",
       "      <td>NaN</td>\n",
       "      <td>NaN</td>\n",
       "      <td>NaN</td>\n",
       "      <td>NaN</td>\n",
       "      <td>NaN</td>\n",
       "      <td>NaN</td>\n",
       "      <td>NaN</td>\n",
       "      <td>NaN</td>\n",
       "      <td>NaN</td>\n",
       "      <td>2023</td>\n",
       "    </tr>\n",
       "    <tr>\n",
       "      <th>809</th>\n",
       "      <td>Wes Unseld</td>\n",
       "      <td>WAS</td>\n",
       "      <td>2</td>\n",
       "      <td>2</td>\n",
       "      <td>82</td>\n",
       "      <td>35</td>\n",
       "      <td>47</td>\n",
       "      <td>164</td>\n",
       "      <td>70</td>\n",
       "      <td>94</td>\n",
       "      <td>164</td>\n",
       "      <td>70</td>\n",
       "      <td>94</td>\n",
       "      <td>0.427</td>\n",
       "      <td>NaN</td>\n",
       "      <td>NaN</td>\n",
       "      <td>NaN</td>\n",
       "      <td>NaN</td>\n",
       "      <td>NaN</td>\n",
       "      <td>NaN</td>\n",
       "      <td>NaN</td>\n",
       "      <td>NaN</td>\n",
       "      <td>NaN</td>\n",
       "      <td>2023</td>\n",
       "    </tr>\n",
       "  </tbody>\n",
       "</table>\n",
       "<p>810 rows × 24 columns</p>\n",
       "</div>"
      ],
      "text/plain": [
       "              Coach   Tm  Seasons w/ Franch #  Seasons Overall #  \\\n",
       "0     Lenny Wilkens  ATL                    7                 27   \n",
       "1       Rick Pitino  BOS                    3                  5   \n",
       "2        Paul Silas  CHH                    2                  5   \n",
       "3         Tim Floyd  CHI                    2                  2   \n",
       "4     Randy Wittman  CLE                    1                  1   \n",
       "..              ...  ...                  ...                ...   \n",
       "805      Mike Brown  SAC                    1                  9   \n",
       "806  Gregg Popovich  SAS                   27                 27   \n",
       "807      Nick Nurse  TOR                    5                  5   \n",
       "808      Will Hardy  UTA                    1                  1   \n",
       "809      Wes Unseld  WAS                    2                  2   \n",
       "\n",
       "     Regular Season Current Season G  Regular Season Current Season W  \\\n",
       "0                                 82                               28   \n",
       "1                                 82                               35   \n",
       "2                                 82                               49   \n",
       "3                                 82                               17   \n",
       "4                                 82                               32   \n",
       "..                               ...                              ...   \n",
       "805                               82                               48   \n",
       "806                               82                               22   \n",
       "807                               82                               41   \n",
       "808                               82                               37   \n",
       "809                               82                               35   \n",
       "\n",
       "     Regular Season Current Season L  Regular Season w/ Franchise G  \\\n",
       "0                                 54                            542   \n",
       "1                                 47                            214   \n",
       "2                                 33                            117   \n",
       "3                                 65                            132   \n",
       "4                                 50                             82   \n",
       "..                               ...                            ...   \n",
       "805                               34                             82   \n",
       "806                               60                           2127   \n",
       "807                               41                            390   \n",
       "808                               45                             82   \n",
       "809                               47                            164   \n",
       "\n",
       "     Regular Season w/ Franchise W  Regular Season w/ Franchise L  \\\n",
       "0                              310                            232   \n",
       "1                               90                            124   \n",
       "2                               71                             46   \n",
       "3                               30                            102   \n",
       "4                               32                             50   \n",
       "..                             ...                            ...   \n",
       "805                             48                             34   \n",
       "806                           1366                            761   \n",
       "807                            227                            163   \n",
       "808                             37                             45   \n",
       "809                             70                             94   \n",
       "\n",
       "     Regular Season Career G  Regular Season Career W  \\\n",
       "0                       2160                     1179   \n",
       "1                        378                      180   \n",
       "2                        363                      149   \n",
       "3                        132                       30   \n",
       "4                         82                       32   \n",
       "..                       ...                      ...   \n",
       "805                      645                      395   \n",
       "806                     2127                     1366   \n",
       "807                      390                      227   \n",
       "808                       82                       37   \n",
       "809                      164                       70   \n",
       "\n",
       "     Regular Season Career L  Regular Season Career W%  \\\n",
       "0                        981                     0.546   \n",
       "1                        198                     0.476   \n",
       "2                        214                     0.410   \n",
       "3                        102                     0.227   \n",
       "4                         50                     0.390   \n",
       "..                       ...                       ...   \n",
       "805                      250                     0.612   \n",
       "806                      761                     0.642   \n",
       "807                      163                     0.582   \n",
       "808                       45                     0.451   \n",
       "809                       94                     0.427   \n",
       "\n",
       "     Playoffs Current Season G  Playoffs Current Season W  \\\n",
       "0                          NaN                        NaN   \n",
       "1                          NaN                        NaN   \n",
       "2                          4.0                        1.0   \n",
       "3                          NaN                        NaN   \n",
       "4                          NaN                        NaN   \n",
       "..                         ...                        ...   \n",
       "805                        7.0                        3.0   \n",
       "806                        NaN                        NaN   \n",
       "807                        NaN                        NaN   \n",
       "808                        NaN                        NaN   \n",
       "809                        NaN                        NaN   \n",
       "\n",
       "     Playoffs Current Season L  Playoffs w/ Franchise G  \\\n",
       "0                          NaN                     47.0   \n",
       "1                          NaN                      NaN   \n",
       "2                          3.0                      4.0   \n",
       "3                          NaN                      NaN   \n",
       "4                          NaN                      NaN   \n",
       "..                         ...                      ...   \n",
       "805                        4.0                      7.0   \n",
       "806                        NaN                    284.0   \n",
       "807                        NaN                     41.0   \n",
       "808                        NaN                      NaN   \n",
       "809                        NaN                      NaN   \n",
       "\n",
       "     Playoffs w/ Franchise W  Playoffs w/ Franchise L  Playoffs Career G  \\\n",
       "0                       17.0                     30.0              157.0   \n",
       "1                        NaN                      NaN               13.0   \n",
       "2                        1.0                      3.0                4.0   \n",
       "3                        NaN                      NaN                NaN   \n",
       "4                        NaN                      NaN                NaN   \n",
       "..                       ...                      ...                ...   \n",
       "805                      3.0                      4.0               90.0   \n",
       "806                    170.0                    114.0              284.0   \n",
       "807                     25.0                     16.0               41.0   \n",
       "808                      NaN                      NaN                NaN   \n",
       "809                      NaN                      NaN                NaN   \n",
       "\n",
       "     Playoffs Career W  Playoffs Career L  Year  \n",
       "0                 72.0               85.0  2000  \n",
       "1                  6.0                7.0  2000  \n",
       "2                  1.0                3.0  2000  \n",
       "3                  NaN                NaN  2000  \n",
       "4                  NaN                NaN  2000  \n",
       "..                 ...                ...   ...  \n",
       "805               50.0               40.0  2023  \n",
       "806              170.0              114.0  2023  \n",
       "807               25.0               16.0  2023  \n",
       "808                NaN                NaN  2023  \n",
       "809                NaN                NaN  2023  \n",
       "\n",
       "[810 rows x 24 columns]"
      ]
     },
     "execution_count": 114,
     "metadata": {},
     "output_type": "execute_result"
    }
   ],
   "source": [
    "pd.set_option('display.max_columns', None)\n",
    "since_2000"
   ]
  },
  {
   "cell_type": "code",
   "execution_count": 118,
   "metadata": {},
   "outputs": [
    {
     "name": "stderr",
     "output_type": "stream",
     "text": [
      "C:\\Users\\timse\\AppData\\Local\\Temp\\ipykernel_35264\\3251053010.py:1: FutureWarning:\n",
      "\n",
      "The default value of numeric_only in DataFrameGroupBy.sum is deprecated. In a future version, numeric_only will default to False. Either specify numeric_only or select only columns which should be valid for the function.\n",
      "\n"
     ]
    },
    {
     "data": {
      "text/html": [
       "<div>\n",
       "<style scoped>\n",
       "    .dataframe tbody tr th:only-of-type {\n",
       "        vertical-align: middle;\n",
       "    }\n",
       "\n",
       "    .dataframe tbody tr th {\n",
       "        vertical-align: top;\n",
       "    }\n",
       "\n",
       "    .dataframe thead th {\n",
       "        text-align: right;\n",
       "    }\n",
       "</style>\n",
       "<table border=\"1\" class=\"dataframe\">\n",
       "  <thead>\n",
       "    <tr style=\"text-align: right;\">\n",
       "      <th></th>\n",
       "      <th></th>\n",
       "      <th>Seasons w/ Franch #</th>\n",
       "      <th>Seasons Overall #</th>\n",
       "      <th>Regular Season Current Season G</th>\n",
       "      <th>Regular Season Current Season W</th>\n",
       "      <th>Regular Season Current Season L</th>\n",
       "      <th>Regular Season w/ Franchise G</th>\n",
       "      <th>Regular Season w/ Franchise W</th>\n",
       "      <th>Regular Season w/ Franchise L</th>\n",
       "      <th>Regular Season Career G</th>\n",
       "      <th>Regular Season Career W</th>\n",
       "      <th>Regular Season Career L</th>\n",
       "      <th>Regular Season Career W%</th>\n",
       "      <th>Playoffs Current Season G</th>\n",
       "      <th>Playoffs Current Season W</th>\n",
       "      <th>Playoffs Current Season L</th>\n",
       "      <th>Playoffs w/ Franchise G</th>\n",
       "      <th>Playoffs w/ Franchise W</th>\n",
       "      <th>Playoffs w/ Franchise L</th>\n",
       "      <th>Playoffs Career G</th>\n",
       "      <th>Playoffs Career W</th>\n",
       "      <th>Playoffs Career L</th>\n",
       "    </tr>\n",
       "    <tr>\n",
       "      <th>Tm</th>\n",
       "      <th>Year</th>\n",
       "      <th></th>\n",
       "      <th></th>\n",
       "      <th></th>\n",
       "      <th></th>\n",
       "      <th></th>\n",
       "      <th></th>\n",
       "      <th></th>\n",
       "      <th></th>\n",
       "      <th></th>\n",
       "      <th></th>\n",
       "      <th></th>\n",
       "      <th></th>\n",
       "      <th></th>\n",
       "      <th></th>\n",
       "      <th></th>\n",
       "      <th></th>\n",
       "      <th></th>\n",
       "      <th></th>\n",
       "      <th></th>\n",
       "      <th></th>\n",
       "      <th></th>\n",
       "    </tr>\n",
       "  </thead>\n",
       "  <tbody>\n",
       "    <tr>\n",
       "      <th rowspan=\"5\" valign=\"top\">ATL</th>\n",
       "      <th>2000</th>\n",
       "      <td>7</td>\n",
       "      <td>27</td>\n",
       "      <td>82</td>\n",
       "      <td>28</td>\n",
       "      <td>54</td>\n",
       "      <td>542</td>\n",
       "      <td>310</td>\n",
       "      <td>232</td>\n",
       "      <td>2160</td>\n",
       "      <td>1179</td>\n",
       "      <td>981</td>\n",
       "      <td>0.546</td>\n",
       "      <td>0.0</td>\n",
       "      <td>0.0</td>\n",
       "      <td>0.0</td>\n",
       "      <td>47.0</td>\n",
       "      <td>17.0</td>\n",
       "      <td>30.0</td>\n",
       "      <td>157.0</td>\n",
       "      <td>72.0</td>\n",
       "      <td>85.0</td>\n",
       "    </tr>\n",
       "    <tr>\n",
       "      <th>2001</th>\n",
       "      <td>1</td>\n",
       "      <td>1</td>\n",
       "      <td>82</td>\n",
       "      <td>25</td>\n",
       "      <td>57</td>\n",
       "      <td>82</td>\n",
       "      <td>25</td>\n",
       "      <td>57</td>\n",
       "      <td>82</td>\n",
       "      <td>25</td>\n",
       "      <td>57</td>\n",
       "      <td>0.305</td>\n",
       "      <td>0.0</td>\n",
       "      <td>0.0</td>\n",
       "      <td>0.0</td>\n",
       "      <td>0.0</td>\n",
       "      <td>0.0</td>\n",
       "      <td>0.0</td>\n",
       "      <td>0.0</td>\n",
       "      <td>0.0</td>\n",
       "      <td>0.0</td>\n",
       "    </tr>\n",
       "    <tr>\n",
       "      <th>2002</th>\n",
       "      <td>2</td>\n",
       "      <td>2</td>\n",
       "      <td>82</td>\n",
       "      <td>33</td>\n",
       "      <td>49</td>\n",
       "      <td>164</td>\n",
       "      <td>58</td>\n",
       "      <td>106</td>\n",
       "      <td>164</td>\n",
       "      <td>58</td>\n",
       "      <td>106</td>\n",
       "      <td>0.354</td>\n",
       "      <td>0.0</td>\n",
       "      <td>0.0</td>\n",
       "      <td>0.0</td>\n",
       "      <td>0.0</td>\n",
       "      <td>0.0</td>\n",
       "      <td>0.0</td>\n",
       "      <td>0.0</td>\n",
       "      <td>0.0</td>\n",
       "      <td>0.0</td>\n",
       "    </tr>\n",
       "    <tr>\n",
       "      <th>2003</th>\n",
       "      <td>4</td>\n",
       "      <td>4</td>\n",
       "      <td>82</td>\n",
       "      <td>35</td>\n",
       "      <td>47</td>\n",
       "      <td>246</td>\n",
       "      <td>93</td>\n",
       "      <td>153</td>\n",
       "      <td>246</td>\n",
       "      <td>93</td>\n",
       "      <td>153</td>\n",
       "      <td>0.797</td>\n",
       "      <td>0.0</td>\n",
       "      <td>0.0</td>\n",
       "      <td>0.0</td>\n",
       "      <td>0.0</td>\n",
       "      <td>0.0</td>\n",
       "      <td>0.0</td>\n",
       "      <td>0.0</td>\n",
       "      <td>0.0</td>\n",
       "      <td>0.0</td>\n",
       "    </tr>\n",
       "    <tr>\n",
       "      <th>2004</th>\n",
       "      <td>2</td>\n",
       "      <td>2</td>\n",
       "      <td>82</td>\n",
       "      <td>28</td>\n",
       "      <td>54</td>\n",
       "      <td>137</td>\n",
       "      <td>52</td>\n",
       "      <td>85</td>\n",
       "      <td>137</td>\n",
       "      <td>52</td>\n",
       "      <td>85</td>\n",
       "      <td>0.380</td>\n",
       "      <td>0.0</td>\n",
       "      <td>0.0</td>\n",
       "      <td>0.0</td>\n",
       "      <td>0.0</td>\n",
       "      <td>0.0</td>\n",
       "      <td>0.0</td>\n",
       "      <td>0.0</td>\n",
       "      <td>0.0</td>\n",
       "      <td>0.0</td>\n",
       "    </tr>\n",
       "    <tr>\n",
       "      <th>...</th>\n",
       "      <th>...</th>\n",
       "      <td>...</td>\n",
       "      <td>...</td>\n",
       "      <td>...</td>\n",
       "      <td>...</td>\n",
       "      <td>...</td>\n",
       "      <td>...</td>\n",
       "      <td>...</td>\n",
       "      <td>...</td>\n",
       "      <td>...</td>\n",
       "      <td>...</td>\n",
       "      <td>...</td>\n",
       "      <td>...</td>\n",
       "      <td>...</td>\n",
       "      <td>...</td>\n",
       "      <td>...</td>\n",
       "      <td>...</td>\n",
       "      <td>...</td>\n",
       "      <td>...</td>\n",
       "      <td>...</td>\n",
       "      <td>...</td>\n",
       "      <td>...</td>\n",
       "    </tr>\n",
       "    <tr>\n",
       "      <th rowspan=\"5\" valign=\"top\">WAS</th>\n",
       "      <th>2019</th>\n",
       "      <td>3</td>\n",
       "      <td>10</td>\n",
       "      <td>82</td>\n",
       "      <td>32</td>\n",
       "      <td>50</td>\n",
       "      <td>246</td>\n",
       "      <td>124</td>\n",
       "      <td>122</td>\n",
       "      <td>791</td>\n",
       "      <td>462</td>\n",
       "      <td>329</td>\n",
       "      <td>0.584</td>\n",
       "      <td>0.0</td>\n",
       "      <td>0.0</td>\n",
       "      <td>0.0</td>\n",
       "      <td>19.0</td>\n",
       "      <td>9.0</td>\n",
       "      <td>10.0</td>\n",
       "      <td>92.0</td>\n",
       "      <td>48.0</td>\n",
       "      <td>44.0</td>\n",
       "    </tr>\n",
       "    <tr>\n",
       "      <th>2020</th>\n",
       "      <td>4</td>\n",
       "      <td>11</td>\n",
       "      <td>72</td>\n",
       "      <td>25</td>\n",
       "      <td>47</td>\n",
       "      <td>318</td>\n",
       "      <td>149</td>\n",
       "      <td>169</td>\n",
       "      <td>863</td>\n",
       "      <td>487</td>\n",
       "      <td>376</td>\n",
       "      <td>0.564</td>\n",
       "      <td>0.0</td>\n",
       "      <td>0.0</td>\n",
       "      <td>0.0</td>\n",
       "      <td>19.0</td>\n",
       "      <td>9.0</td>\n",
       "      <td>10.0</td>\n",
       "      <td>92.0</td>\n",
       "      <td>48.0</td>\n",
       "      <td>44.0</td>\n",
       "    </tr>\n",
       "    <tr>\n",
       "      <th>2021</th>\n",
       "      <td>5</td>\n",
       "      <td>12</td>\n",
       "      <td>72</td>\n",
       "      <td>34</td>\n",
       "      <td>38</td>\n",
       "      <td>390</td>\n",
       "      <td>183</td>\n",
       "      <td>207</td>\n",
       "      <td>935</td>\n",
       "      <td>521</td>\n",
       "      <td>414</td>\n",
       "      <td>0.557</td>\n",
       "      <td>5.0</td>\n",
       "      <td>1.0</td>\n",
       "      <td>4.0</td>\n",
       "      <td>24.0</td>\n",
       "      <td>10.0</td>\n",
       "      <td>14.0</td>\n",
       "      <td>97.0</td>\n",
       "      <td>49.0</td>\n",
       "      <td>48.0</td>\n",
       "    </tr>\n",
       "    <tr>\n",
       "      <th>2022</th>\n",
       "      <td>1</td>\n",
       "      <td>1</td>\n",
       "      <td>82</td>\n",
       "      <td>35</td>\n",
       "      <td>47</td>\n",
       "      <td>82</td>\n",
       "      <td>35</td>\n",
       "      <td>47</td>\n",
       "      <td>82</td>\n",
       "      <td>35</td>\n",
       "      <td>47</td>\n",
       "      <td>0.427</td>\n",
       "      <td>0.0</td>\n",
       "      <td>0.0</td>\n",
       "      <td>0.0</td>\n",
       "      <td>0.0</td>\n",
       "      <td>0.0</td>\n",
       "      <td>0.0</td>\n",
       "      <td>0.0</td>\n",
       "      <td>0.0</td>\n",
       "      <td>0.0</td>\n",
       "    </tr>\n",
       "    <tr>\n",
       "      <th>2023</th>\n",
       "      <td>2</td>\n",
       "      <td>2</td>\n",
       "      <td>82</td>\n",
       "      <td>35</td>\n",
       "      <td>47</td>\n",
       "      <td>164</td>\n",
       "      <td>70</td>\n",
       "      <td>94</td>\n",
       "      <td>164</td>\n",
       "      <td>70</td>\n",
       "      <td>94</td>\n",
       "      <td>0.427</td>\n",
       "      <td>0.0</td>\n",
       "      <td>0.0</td>\n",
       "      <td>0.0</td>\n",
       "      <td>0.0</td>\n",
       "      <td>0.0</td>\n",
       "      <td>0.0</td>\n",
       "      <td>0.0</td>\n",
       "      <td>0.0</td>\n",
       "      <td>0.0</td>\n",
       "    </tr>\n",
       "  </tbody>\n",
       "</table>\n",
       "<p>715 rows × 21 columns</p>\n",
       "</div>"
      ],
      "text/plain": [
       "          Seasons w/ Franch #  Seasons Overall #  \\\n",
       "Tm  Year                                           \n",
       "ATL 2000                    7                 27   \n",
       "    2001                    1                  1   \n",
       "    2002                    2                  2   \n",
       "    2003                    4                  4   \n",
       "    2004                    2                  2   \n",
       "...                       ...                ...   \n",
       "WAS 2019                    3                 10   \n",
       "    2020                    4                 11   \n",
       "    2021                    5                 12   \n",
       "    2022                    1                  1   \n",
       "    2023                    2                  2   \n",
       "\n",
       "          Regular Season Current Season G  Regular Season Current Season W  \\\n",
       "Tm  Year                                                                     \n",
       "ATL 2000                               82                               28   \n",
       "    2001                               82                               25   \n",
       "    2002                               82                               33   \n",
       "    2003                               82                               35   \n",
       "    2004                               82                               28   \n",
       "...                                   ...                              ...   \n",
       "WAS 2019                               82                               32   \n",
       "    2020                               72                               25   \n",
       "    2021                               72                               34   \n",
       "    2022                               82                               35   \n",
       "    2023                               82                               35   \n",
       "\n",
       "          Regular Season Current Season L  Regular Season w/ Franchise G  \\\n",
       "Tm  Year                                                                   \n",
       "ATL 2000                               54                            542   \n",
       "    2001                               57                             82   \n",
       "    2002                               49                            164   \n",
       "    2003                               47                            246   \n",
       "    2004                               54                            137   \n",
       "...                                   ...                            ...   \n",
       "WAS 2019                               50                            246   \n",
       "    2020                               47                            318   \n",
       "    2021                               38                            390   \n",
       "    2022                               47                             82   \n",
       "    2023                               47                            164   \n",
       "\n",
       "          Regular Season w/ Franchise W  Regular Season w/ Franchise L  \\\n",
       "Tm  Year                                                                 \n",
       "ATL 2000                            310                            232   \n",
       "    2001                             25                             57   \n",
       "    2002                             58                            106   \n",
       "    2003                             93                            153   \n",
       "    2004                             52                             85   \n",
       "...                                 ...                            ...   \n",
       "WAS 2019                            124                            122   \n",
       "    2020                            149                            169   \n",
       "    2021                            183                            207   \n",
       "    2022                             35                             47   \n",
       "    2023                             70                             94   \n",
       "\n",
       "          Regular Season Career G  Regular Season Career W  \\\n",
       "Tm  Year                                                     \n",
       "ATL 2000                     2160                     1179   \n",
       "    2001                       82                       25   \n",
       "    2002                      164                       58   \n",
       "    2003                      246                       93   \n",
       "    2004                      137                       52   \n",
       "...                           ...                      ...   \n",
       "WAS 2019                      791                      462   \n",
       "    2020                      863                      487   \n",
       "    2021                      935                      521   \n",
       "    2022                       82                       35   \n",
       "    2023                      164                       70   \n",
       "\n",
       "          Regular Season Career L  Regular Season Career W%  \\\n",
       "Tm  Year                                                      \n",
       "ATL 2000                      981                     0.546   \n",
       "    2001                       57                     0.305   \n",
       "    2002                      106                     0.354   \n",
       "    2003                      153                     0.797   \n",
       "    2004                       85                     0.380   \n",
       "...                           ...                       ...   \n",
       "WAS 2019                      329                     0.584   \n",
       "    2020                      376                     0.564   \n",
       "    2021                      414                     0.557   \n",
       "    2022                       47                     0.427   \n",
       "    2023                       94                     0.427   \n",
       "\n",
       "          Playoffs Current Season G  Playoffs Current Season W  \\\n",
       "Tm  Year                                                         \n",
       "ATL 2000                        0.0                        0.0   \n",
       "    2001                        0.0                        0.0   \n",
       "    2002                        0.0                        0.0   \n",
       "    2003                        0.0                        0.0   \n",
       "    2004                        0.0                        0.0   \n",
       "...                             ...                        ...   \n",
       "WAS 2019                        0.0                        0.0   \n",
       "    2020                        0.0                        0.0   \n",
       "    2021                        5.0                        1.0   \n",
       "    2022                        0.0                        0.0   \n",
       "    2023                        0.0                        0.0   \n",
       "\n",
       "          Playoffs Current Season L  Playoffs w/ Franchise G  \\\n",
       "Tm  Year                                                       \n",
       "ATL 2000                        0.0                     47.0   \n",
       "    2001                        0.0                      0.0   \n",
       "    2002                        0.0                      0.0   \n",
       "    2003                        0.0                      0.0   \n",
       "    2004                        0.0                      0.0   \n",
       "...                             ...                      ...   \n",
       "WAS 2019                        0.0                     19.0   \n",
       "    2020                        0.0                     19.0   \n",
       "    2021                        4.0                     24.0   \n",
       "    2022                        0.0                      0.0   \n",
       "    2023                        0.0                      0.0   \n",
       "\n",
       "          Playoffs w/ Franchise W  Playoffs w/ Franchise L  Playoffs Career G  \\\n",
       "Tm  Year                                                                        \n",
       "ATL 2000                     17.0                     30.0              157.0   \n",
       "    2001                      0.0                      0.0                0.0   \n",
       "    2002                      0.0                      0.0                0.0   \n",
       "    2003                      0.0                      0.0                0.0   \n",
       "    2004                      0.0                      0.0                0.0   \n",
       "...                           ...                      ...                ...   \n",
       "WAS 2019                      9.0                     10.0               92.0   \n",
       "    2020                      9.0                     10.0               92.0   \n",
       "    2021                     10.0                     14.0               97.0   \n",
       "    2022                      0.0                      0.0                0.0   \n",
       "    2023                      0.0                      0.0                0.0   \n",
       "\n",
       "          Playoffs Career W  Playoffs Career L  \n",
       "Tm  Year                                        \n",
       "ATL 2000               72.0               85.0  \n",
       "    2001                0.0                0.0  \n",
       "    2002                0.0                0.0  \n",
       "    2003                0.0                0.0  \n",
       "    2004                0.0                0.0  \n",
       "...                     ...                ...  \n",
       "WAS 2019               48.0               44.0  \n",
       "    2020               48.0               44.0  \n",
       "    2021               49.0               48.0  \n",
       "    2022                0.0                0.0  \n",
       "    2023                0.0                0.0  \n",
       "\n",
       "[715 rows x 21 columns]"
      ]
     },
     "execution_count": 118,
     "metadata": {},
     "output_type": "execute_result"
    }
   ],
   "source": [
    "previous_year_team_win_pct = since_2000.groupby(['Tm', 'Year']).sum()\n",
    "previous_year_team_win_pct"
   ]
  },
  {
   "cell_type": "code",
   "execution_count": 119,
   "metadata": {},
   "outputs": [],
   "source": [
    "previous_year_team_win_pct['Win%'] = previous_year_team_win_pct['Regular Season Current Season W'] / previous_year_team_win_pct['Regular Season Current Season G']"
   ]
  },
  {
   "cell_type": "code",
   "execution_count": 120,
   "metadata": {},
   "outputs": [],
   "source": [
    "previous_year_team_win_pct.reset_index(inplace=True)"
   ]
  },
  {
   "cell_type": "code",
   "execution_count": 121,
   "metadata": {},
   "outputs": [],
   "source": [
    "# Adding 1 to year for joining purposes\n",
    "previous_year_team_win_pct['Year'] = previous_year_team_win_pct['Year'] + 1"
   ]
  },
  {
   "cell_type": "code",
   "execution_count": 122,
   "metadata": {},
   "outputs": [],
   "source": [
    "prev_year = previous_year_team_win_pct[['Tm', 'Year', 'Win%']]"
   ]
  },
  {
   "cell_type": "code",
   "execution_count": 123,
   "metadata": {},
   "outputs": [],
   "source": [
    "since_2000 = since_2000.merge(prev_year, left_on=['Tm', 'Year'], right_on=['Tm', 'Year'], how='inner')"
   ]
  },
  {
   "cell_type": "code",
   "execution_count": 129,
   "metadata": {},
   "outputs": [],
   "source": [
    "first_season_head_coaches = since_2000[(since_2000['Seasons w/ Franch #'] == 1) & (since_2000['Regular Season Current Season G'] == 82)]"
   ]
  },
  {
   "cell_type": "code",
   "execution_count": 133,
   "metadata": {},
   "outputs": [],
   "source": [
    "pd.set_option('display.max_rows', 25)"
   ]
  },
  {
   "cell_type": "code",
   "execution_count": 131,
   "metadata": {},
   "outputs": [
    {
     "name": "stderr",
     "output_type": "stream",
     "text": [
      "C:\\Users\\timse\\AppData\\Local\\Temp\\ipykernel_35264\\4093451654.py:1: SettingWithCopyWarning:\n",
      "\n",
      "\n",
      "A value is trying to be set on a copy of a slice from a DataFrame\n",
      "\n",
      "See the caveats in the documentation: https://pandas.pydata.org/pandas-docs/stable/user_guide/indexing.html#returning-a-view-versus-a-copy\n",
      "\n"
     ]
    }
   ],
   "source": [
    "first_season_head_coaches.fillna(0, inplace=True)"
   ]
  },
  {
   "cell_type": "code",
   "execution_count": 134,
   "metadata": {},
   "outputs": [
    {
     "data": {
      "text/html": [
       "<div>\n",
       "<style scoped>\n",
       "    .dataframe tbody tr th:only-of-type {\n",
       "        vertical-align: middle;\n",
       "    }\n",
       "\n",
       "    .dataframe tbody tr th {\n",
       "        vertical-align: top;\n",
       "    }\n",
       "\n",
       "    .dataframe thead th {\n",
       "        text-align: right;\n",
       "    }\n",
       "</style>\n",
       "<table border=\"1\" class=\"dataframe\">\n",
       "  <thead>\n",
       "    <tr style=\"text-align: right;\">\n",
       "      <th></th>\n",
       "      <th>Coach</th>\n",
       "      <th>Tm</th>\n",
       "      <th>Seasons w/ Franch #</th>\n",
       "      <th>Seasons Overall #</th>\n",
       "      <th>Regular Season Current Season G</th>\n",
       "      <th>Regular Season Current Season W</th>\n",
       "      <th>Regular Season Current Season L</th>\n",
       "      <th>Regular Season w/ Franchise G</th>\n",
       "      <th>Regular Season w/ Franchise W</th>\n",
       "      <th>Regular Season w/ Franchise L</th>\n",
       "      <th>Regular Season Career G</th>\n",
       "      <th>Regular Season Career W</th>\n",
       "      <th>Regular Season Career L</th>\n",
       "      <th>Regular Season Career W%</th>\n",
       "      <th>Playoffs Current Season G</th>\n",
       "      <th>Playoffs Current Season W</th>\n",
       "      <th>Playoffs Current Season L</th>\n",
       "      <th>Playoffs w/ Franchise G</th>\n",
       "      <th>Playoffs w/ Franchise W</th>\n",
       "      <th>Playoffs w/ Franchise L</th>\n",
       "      <th>Playoffs Career G</th>\n",
       "      <th>Playoffs Career W</th>\n",
       "      <th>Playoffs Career L</th>\n",
       "      <th>Year</th>\n",
       "      <th>Win%</th>\n",
       "    </tr>\n",
       "  </thead>\n",
       "  <tbody>\n",
       "    <tr>\n",
       "      <th>0</th>\n",
       "      <td>Lon Kruger</td>\n",
       "      <td>ATL</td>\n",
       "      <td>1</td>\n",
       "      <td>1</td>\n",
       "      <td>82</td>\n",
       "      <td>25</td>\n",
       "      <td>57</td>\n",
       "      <td>82</td>\n",
       "      <td>25</td>\n",
       "      <td>57</td>\n",
       "      <td>82</td>\n",
       "      <td>25</td>\n",
       "      <td>57</td>\n",
       "      <td>0.305</td>\n",
       "      <td>0.0</td>\n",
       "      <td>0.0</td>\n",
       "      <td>0.0</td>\n",
       "      <td>0.0</td>\n",
       "      <td>0.0</td>\n",
       "      <td>0.0</td>\n",
       "      <td>0.0</td>\n",
       "      <td>0.0</td>\n",
       "      <td>0.0</td>\n",
       "      <td>2001</td>\n",
       "      <td>0.341463</td>\n",
       "    </tr>\n",
       "    <tr>\n",
       "      <th>9</th>\n",
       "      <td>Dave Cowens</td>\n",
       "      <td>GSW</td>\n",
       "      <td>1</td>\n",
       "      <td>5</td>\n",
       "      <td>82</td>\n",
       "      <td>17</td>\n",
       "      <td>65</td>\n",
       "      <td>82</td>\n",
       "      <td>17</td>\n",
       "      <td>65</td>\n",
       "      <td>329</td>\n",
       "      <td>153</td>\n",
       "      <td>176</td>\n",
       "      <td>0.465</td>\n",
       "      <td>0.0</td>\n",
       "      <td>0.0</td>\n",
       "      <td>0.0</td>\n",
       "      <td>0.0</td>\n",
       "      <td>0.0</td>\n",
       "      <td>0.0</td>\n",
       "      <td>12.0</td>\n",
       "      <td>4.0</td>\n",
       "      <td>8.0</td>\n",
       "      <td>2001</td>\n",
       "      <td>0.231707</td>\n",
       "    </tr>\n",
       "    <tr>\n",
       "      <th>11</th>\n",
       "      <td>Isiah Thomas</td>\n",
       "      <td>IND</td>\n",
       "      <td>1</td>\n",
       "      <td>1</td>\n",
       "      <td>82</td>\n",
       "      <td>41</td>\n",
       "      <td>41</td>\n",
       "      <td>82</td>\n",
       "      <td>41</td>\n",
       "      <td>41</td>\n",
       "      <td>82</td>\n",
       "      <td>41</td>\n",
       "      <td>41</td>\n",
       "      <td>0.500</td>\n",
       "      <td>4.0</td>\n",
       "      <td>1.0</td>\n",
       "      <td>3.0</td>\n",
       "      <td>4.0</td>\n",
       "      <td>1.0</td>\n",
       "      <td>3.0</td>\n",
       "      <td>4.0</td>\n",
       "      <td>1.0</td>\n",
       "      <td>3.0</td>\n",
       "      <td>2001</td>\n",
       "      <td>0.682927</td>\n",
       "    </tr>\n",
       "    <tr>\n",
       "      <th>12</th>\n",
       "      <td>Alvin Gentry</td>\n",
       "      <td>LAC</td>\n",
       "      <td>1</td>\n",
       "      <td>5</td>\n",
       "      <td>82</td>\n",
       "      <td>31</td>\n",
       "      <td>51</td>\n",
       "      <td>82</td>\n",
       "      <td>31</td>\n",
       "      <td>51</td>\n",
       "      <td>263</td>\n",
       "      <td>119</td>\n",
       "      <td>144</td>\n",
       "      <td>0.452</td>\n",
       "      <td>0.0</td>\n",
       "      <td>0.0</td>\n",
       "      <td>0.0</td>\n",
       "      <td>0.0</td>\n",
       "      <td>0.0</td>\n",
       "      <td>0.0</td>\n",
       "      <td>5.0</td>\n",
       "      <td>2.0</td>\n",
       "      <td>3.0</td>\n",
       "      <td>2001</td>\n",
       "      <td>0.182927</td>\n",
       "    </tr>\n",
       "    <tr>\n",
       "      <th>17</th>\n",
       "      <td>Byron Scott</td>\n",
       "      <td>NJN</td>\n",
       "      <td>1</td>\n",
       "      <td>1</td>\n",
       "      <td>82</td>\n",
       "      <td>26</td>\n",
       "      <td>56</td>\n",
       "      <td>82</td>\n",
       "      <td>26</td>\n",
       "      <td>56</td>\n",
       "      <td>82</td>\n",
       "      <td>26</td>\n",
       "      <td>56</td>\n",
       "      <td>0.317</td>\n",
       "      <td>0.0</td>\n",
       "      <td>0.0</td>\n",
       "      <td>0.0</td>\n",
       "      <td>0.0</td>\n",
       "      <td>0.0</td>\n",
       "      <td>0.0</td>\n",
       "      <td>0.0</td>\n",
       "      <td>0.0</td>\n",
       "      <td>0.0</td>\n",
       "      <td>2001</td>\n",
       "      <td>0.378049</td>\n",
       "    </tr>\n",
       "    <tr>\n",
       "      <th>...</th>\n",
       "      <td>...</td>\n",
       "      <td>...</td>\n",
       "      <td>...</td>\n",
       "      <td>...</td>\n",
       "      <td>...</td>\n",
       "      <td>...</td>\n",
       "      <td>...</td>\n",
       "      <td>...</td>\n",
       "      <td>...</td>\n",
       "      <td>...</td>\n",
       "      <td>...</td>\n",
       "      <td>...</td>\n",
       "      <td>...</td>\n",
       "      <td>...</td>\n",
       "      <td>...</td>\n",
       "      <td>...</td>\n",
       "      <td>...</td>\n",
       "      <td>...</td>\n",
       "      <td>...</td>\n",
       "      <td>...</td>\n",
       "      <td>...</td>\n",
       "      <td>...</td>\n",
       "      <td>...</td>\n",
       "      <td>...</td>\n",
       "      <td>...</td>\n",
       "    </tr>\n",
       "    <tr>\n",
       "      <th>730</th>\n",
       "      <td>Wes Unseld</td>\n",
       "      <td>WAS</td>\n",
       "      <td>1</td>\n",
       "      <td>1</td>\n",
       "      <td>82</td>\n",
       "      <td>35</td>\n",
       "      <td>47</td>\n",
       "      <td>82</td>\n",
       "      <td>35</td>\n",
       "      <td>47</td>\n",
       "      <td>82</td>\n",
       "      <td>35</td>\n",
       "      <td>47</td>\n",
       "      <td>0.427</td>\n",
       "      <td>0.0</td>\n",
       "      <td>0.0</td>\n",
       "      <td>0.0</td>\n",
       "      <td>0.0</td>\n",
       "      <td>0.0</td>\n",
       "      <td>0.0</td>\n",
       "      <td>0.0</td>\n",
       "      <td>0.0</td>\n",
       "      <td>0.0</td>\n",
       "      <td>2022</td>\n",
       "      <td>0.472222</td>\n",
       "    </tr>\n",
       "    <tr>\n",
       "      <th>734</th>\n",
       "      <td>Joe Mazzulla</td>\n",
       "      <td>BOS</td>\n",
       "      <td>1</td>\n",
       "      <td>1</td>\n",
       "      <td>82</td>\n",
       "      <td>57</td>\n",
       "      <td>25</td>\n",
       "      <td>82</td>\n",
       "      <td>57</td>\n",
       "      <td>25</td>\n",
       "      <td>82</td>\n",
       "      <td>57</td>\n",
       "      <td>25</td>\n",
       "      <td>0.695</td>\n",
       "      <td>15.0</td>\n",
       "      <td>8.0</td>\n",
       "      <td>7.0</td>\n",
       "      <td>15.0</td>\n",
       "      <td>8.0</td>\n",
       "      <td>7.0</td>\n",
       "      <td>15.0</td>\n",
       "      <td>8.0</td>\n",
       "      <td>7.0</td>\n",
       "      <td>2023</td>\n",
       "      <td>0.621951</td>\n",
       "    </tr>\n",
       "    <tr>\n",
       "      <th>747</th>\n",
       "      <td>Darvin Ham</td>\n",
       "      <td>LAL</td>\n",
       "      <td>1</td>\n",
       "      <td>1</td>\n",
       "      <td>82</td>\n",
       "      <td>43</td>\n",
       "      <td>39</td>\n",
       "      <td>82</td>\n",
       "      <td>43</td>\n",
       "      <td>39</td>\n",
       "      <td>82</td>\n",
       "      <td>43</td>\n",
       "      <td>39</td>\n",
       "      <td>0.524</td>\n",
       "      <td>14.0</td>\n",
       "      <td>8.0</td>\n",
       "      <td>6.0</td>\n",
       "      <td>14.0</td>\n",
       "      <td>8.0</td>\n",
       "      <td>6.0</td>\n",
       "      <td>14.0</td>\n",
       "      <td>8.0</td>\n",
       "      <td>6.0</td>\n",
       "      <td>2023</td>\n",
       "      <td>0.402439</td>\n",
       "    </tr>\n",
       "    <tr>\n",
       "      <th>759</th>\n",
       "      <td>Mike Brown</td>\n",
       "      <td>SAC</td>\n",
       "      <td>1</td>\n",
       "      <td>9</td>\n",
       "      <td>82</td>\n",
       "      <td>48</td>\n",
       "      <td>34</td>\n",
       "      <td>82</td>\n",
       "      <td>48</td>\n",
       "      <td>34</td>\n",
       "      <td>645</td>\n",
       "      <td>395</td>\n",
       "      <td>250</td>\n",
       "      <td>0.612</td>\n",
       "      <td>7.0</td>\n",
       "      <td>3.0</td>\n",
       "      <td>4.0</td>\n",
       "      <td>7.0</td>\n",
       "      <td>3.0</td>\n",
       "      <td>4.0</td>\n",
       "      <td>90.0</td>\n",
       "      <td>50.0</td>\n",
       "      <td>40.0</td>\n",
       "      <td>2023</td>\n",
       "      <td>0.365854</td>\n",
       "    </tr>\n",
       "    <tr>\n",
       "      <th>762</th>\n",
       "      <td>Will Hardy</td>\n",
       "      <td>UTA</td>\n",
       "      <td>1</td>\n",
       "      <td>1</td>\n",
       "      <td>82</td>\n",
       "      <td>37</td>\n",
       "      <td>45</td>\n",
       "      <td>82</td>\n",
       "      <td>37</td>\n",
       "      <td>45</td>\n",
       "      <td>82</td>\n",
       "      <td>37</td>\n",
       "      <td>45</td>\n",
       "      <td>0.451</td>\n",
       "      <td>0.0</td>\n",
       "      <td>0.0</td>\n",
       "      <td>0.0</td>\n",
       "      <td>0.0</td>\n",
       "      <td>0.0</td>\n",
       "      <td>0.0</td>\n",
       "      <td>0.0</td>\n",
       "      <td>0.0</td>\n",
       "      <td>0.0</td>\n",
       "      <td>2023</td>\n",
       "      <td>0.597561</td>\n",
       "    </tr>\n",
       "  </tbody>\n",
       "</table>\n",
       "<p>122 rows × 25 columns</p>\n",
       "</div>"
      ],
      "text/plain": [
       "            Coach   Tm  Seasons w/ Franch #  Seasons Overall #  \\\n",
       "0      Lon Kruger  ATL                    1                  1   \n",
       "9     Dave Cowens  GSW                    1                  5   \n",
       "11   Isiah Thomas  IND                    1                  1   \n",
       "12   Alvin Gentry  LAC                    1                  5   \n",
       "17    Byron Scott  NJN                    1                  1   \n",
       "..            ...  ...                  ...                ...   \n",
       "730    Wes Unseld  WAS                    1                  1   \n",
       "734  Joe Mazzulla  BOS                    1                  1   \n",
       "747    Darvin Ham  LAL                    1                  1   \n",
       "759    Mike Brown  SAC                    1                  9   \n",
       "762    Will Hardy  UTA                    1                  1   \n",
       "\n",
       "     Regular Season Current Season G  Regular Season Current Season W  \\\n",
       "0                                 82                               25   \n",
       "9                                 82                               17   \n",
       "11                                82                               41   \n",
       "12                                82                               31   \n",
       "17                                82                               26   \n",
       "..                               ...                              ...   \n",
       "730                               82                               35   \n",
       "734                               82                               57   \n",
       "747                               82                               43   \n",
       "759                               82                               48   \n",
       "762                               82                               37   \n",
       "\n",
       "     Regular Season Current Season L  Regular Season w/ Franchise G  \\\n",
       "0                                 57                             82   \n",
       "9                                 65                             82   \n",
       "11                                41                             82   \n",
       "12                                51                             82   \n",
       "17                                56                             82   \n",
       "..                               ...                            ...   \n",
       "730                               47                             82   \n",
       "734                               25                             82   \n",
       "747                               39                             82   \n",
       "759                               34                             82   \n",
       "762                               45                             82   \n",
       "\n",
       "     Regular Season w/ Franchise W  Regular Season w/ Franchise L  \\\n",
       "0                               25                             57   \n",
       "9                               17                             65   \n",
       "11                              41                             41   \n",
       "12                              31                             51   \n",
       "17                              26                             56   \n",
       "..                             ...                            ...   \n",
       "730                             35                             47   \n",
       "734                             57                             25   \n",
       "747                             43                             39   \n",
       "759                             48                             34   \n",
       "762                             37                             45   \n",
       "\n",
       "     Regular Season Career G  Regular Season Career W  \\\n",
       "0                         82                       25   \n",
       "9                        329                      153   \n",
       "11                        82                       41   \n",
       "12                       263                      119   \n",
       "17                        82                       26   \n",
       "..                       ...                      ...   \n",
       "730                       82                       35   \n",
       "734                       82                       57   \n",
       "747                       82                       43   \n",
       "759                      645                      395   \n",
       "762                       82                       37   \n",
       "\n",
       "     Regular Season Career L  Regular Season Career W%  \\\n",
       "0                         57                     0.305   \n",
       "9                        176                     0.465   \n",
       "11                        41                     0.500   \n",
       "12                       144                     0.452   \n",
       "17                        56                     0.317   \n",
       "..                       ...                       ...   \n",
       "730                       47                     0.427   \n",
       "734                       25                     0.695   \n",
       "747                       39                     0.524   \n",
       "759                      250                     0.612   \n",
       "762                       45                     0.451   \n",
       "\n",
       "     Playoffs Current Season G  Playoffs Current Season W  \\\n",
       "0                          0.0                        0.0   \n",
       "9                          0.0                        0.0   \n",
       "11                         4.0                        1.0   \n",
       "12                         0.0                        0.0   \n",
       "17                         0.0                        0.0   \n",
       "..                         ...                        ...   \n",
       "730                        0.0                        0.0   \n",
       "734                       15.0                        8.0   \n",
       "747                       14.0                        8.0   \n",
       "759                        7.0                        3.0   \n",
       "762                        0.0                        0.0   \n",
       "\n",
       "     Playoffs Current Season L  Playoffs w/ Franchise G  \\\n",
       "0                          0.0                      0.0   \n",
       "9                          0.0                      0.0   \n",
       "11                         3.0                      4.0   \n",
       "12                         0.0                      0.0   \n",
       "17                         0.0                      0.0   \n",
       "..                         ...                      ...   \n",
       "730                        0.0                      0.0   \n",
       "734                        7.0                     15.0   \n",
       "747                        6.0                     14.0   \n",
       "759                        4.0                      7.0   \n",
       "762                        0.0                      0.0   \n",
       "\n",
       "     Playoffs w/ Franchise W  Playoffs w/ Franchise L  Playoffs Career G  \\\n",
       "0                        0.0                      0.0                0.0   \n",
       "9                        0.0                      0.0               12.0   \n",
       "11                       1.0                      3.0                4.0   \n",
       "12                       0.0                      0.0                5.0   \n",
       "17                       0.0                      0.0                0.0   \n",
       "..                       ...                      ...                ...   \n",
       "730                      0.0                      0.0                0.0   \n",
       "734                      8.0                      7.0               15.0   \n",
       "747                      8.0                      6.0               14.0   \n",
       "759                      3.0                      4.0               90.0   \n",
       "762                      0.0                      0.0                0.0   \n",
       "\n",
       "     Playoffs Career W  Playoffs Career L  Year      Win%  \n",
       "0                  0.0                0.0  2001  0.341463  \n",
       "9                  4.0                8.0  2001  0.231707  \n",
       "11                 1.0                3.0  2001  0.682927  \n",
       "12                 2.0                3.0  2001  0.182927  \n",
       "17                 0.0                0.0  2001  0.378049  \n",
       "..                 ...                ...   ...       ...  \n",
       "730                0.0                0.0  2022  0.472222  \n",
       "734                8.0                7.0  2023  0.621951  \n",
       "747                8.0                6.0  2023  0.402439  \n",
       "759               50.0               40.0  2023  0.365854  \n",
       "762                0.0                0.0  2023  0.597561  \n",
       "\n",
       "[122 rows x 25 columns]"
      ]
     },
     "execution_count": 134,
     "metadata": {},
     "output_type": "execute_result"
    }
   ],
   "source": [
    "first_season_head_coaches"
   ]
  },
  {
   "cell_type": "code",
   "execution_count": 135,
   "metadata": {},
   "outputs": [],
   "source": [
    "fshc = first_season_head_coaches.copy()"
   ]
  },
  {
   "cell_type": "code",
   "execution_count": null,
   "metadata": {},
   "outputs": [],
   "source": [
    "playoff_hirings = fshc[fsch.]"
   ]
  },
  {
   "cell_type": "code",
   "execution_count": 97,
   "metadata": {},
   "outputs": [
    {
     "data": {
      "application/vnd.plotly.v1+json": {
       "config": {
        "plotlyServerURL": "https://plot.ly"
       },
       "data": [
        {
         "hovertemplate": "Seasons Overall #=%{x}<br>Regular Season Current Season W=%{y}<extra></extra>",
         "legendgroup": "",
         "marker": {
          "color": "#636efa",
          "symbol": "circle"
         },
         "mode": "markers",
         "name": "",
         "orientation": "v",
         "showlegend": false,
         "type": "scatter",
         "x": [
          1,
          4,
          6,
          1,
          10,
          1,
          1,
          1,
          2,
          3,
          1,
          1,
          5,
          1,
          5,
          1,
          1,
          28,
          3,
          1,
          1,
          1,
          5,
          1,
          1,
          3,
          10,
          1,
          1,
          7,
          1,
          1,
          1,
          1,
          1,
          13,
          8,
          1,
          1,
          4,
          9,
          25,
          8,
          3,
          11,
          1,
          1,
          1,
          5,
          1,
          31,
          2,
          1,
          10,
          2,
          1,
          3,
          1,
          6,
          11,
          2,
          1,
          1,
          17,
          1,
          13,
          2,
          15,
          1,
          5,
          1,
          5,
          1,
          1,
          1,
          11,
          3,
          1,
          27,
          5,
          6,
          7,
          8,
          1,
          1,
          3,
          4,
          3,
          1,
          1,
          17,
          6,
          1,
          4,
          1,
          7,
          28,
          1,
          7,
          1,
          4,
          1,
          9,
          7,
          1,
          1,
          3,
          8,
          1,
          1,
          1,
          1,
          1,
          2,
          1,
          1,
          1,
          9,
          8,
          14,
          1,
          1,
          11,
          2,
          1,
          3,
          5,
          1,
          9,
          1,
          8,
          1,
          3,
          6,
          21,
          7,
          1,
          3,
          3,
          6,
          9,
          1,
          14,
          11,
          2,
          1,
          1,
          5,
          1,
          1,
          1,
          1,
          1,
          9,
          1,
          15,
          1,
          4,
          1,
          1,
          1,
          8,
          1,
          1,
          9,
          1,
          14,
          2,
          1,
          1,
          5,
          26,
          1,
          1,
          1,
          1,
          3,
          1,
          6,
          13,
          4,
          1,
          14,
          1,
          1,
          13,
          13,
          1,
          1,
          6,
          4,
          7,
          4,
          8,
          2,
          1,
          4,
          1,
          1,
          2,
          5,
          10,
          6,
          1,
          3,
          6,
          1,
          1,
          4,
          1,
          4,
          9,
          1,
          1,
          6,
          4,
          17,
          1,
          6,
          1,
          1,
          5,
          1,
          13,
          9,
          1,
          22,
          1,
          6,
          1,
          1,
          1,
          18,
          1,
          2,
          9,
          1,
          1,
          9,
          1
         ],
         "xaxis": "x",
         "y": [
          32,
          14,
          13,
          4,
          67,
          41,
          40,
          18,
          14,
          15,
          25,
          24,
          17,
          41,
          31,
          26,
          38,
          47,
          23,
          19,
          0,
          17,
          29,
          18,
          50,
          13,
          20,
          11,
          49,
          37,
          24,
          9,
          17,
          38,
          8,
          28,
          47,
          14,
          0,
          19,
          35,
          54,
          45,
          61,
          28,
          42,
          41,
          25,
          41,
          1,
          23,
          20,
          21,
          12,
          21,
          33,
          25,
          13,
          45,
          18,
          8,
          16,
          4,
          32,
          34,
          24,
          10,
          40,
          19,
          18,
          5,
          43,
          5,
          33,
          50,
          64,
          40,
          33,
          23,
          38,
          21,
          13,
          22,
          16,
          5,
          12,
          33,
          33,
          32,
          24,
          55,
          36,
          22,
          52,
          38,
          20,
          35,
          41,
          50,
          39,
          0,
          43,
          34,
          32,
          22,
          32,
          28,
          18,
          11,
          25,
          18,
          27,
          8,
          15,
          0,
          12,
          34,
          27,
          25,
          26,
          44,
          62,
          19,
          36,
          20,
          32,
          24,
          46,
          41,
          8,
          25,
          23,
          34,
          41,
          26,
          18,
          8,
          20,
          23,
          18,
          35,
          21,
          4,
          40,
          22,
          20,
          12,
          33,
          38,
          25,
          44,
          43,
          36,
          21,
          8,
          57,
          50,
          15,
          19,
          48,
          28,
          38,
          53,
          10,
          32,
          67,
          21,
          41,
          17,
          10,
          7,
          11,
          38,
          11,
          42,
          27,
          33,
          37,
          29,
          30,
          9,
          55,
          35,
          9,
          20,
          55,
          42,
          26,
          43,
          31,
          31,
          29,
          32,
          49,
          15,
          21,
          21,
          29,
          17,
          39,
          19,
          41,
          60,
          17,
          17,
          42,
          19,
          58,
          7,
          14,
          5,
          52,
          34,
          17,
          34,
          31,
          27,
          48,
          31,
          17,
          34,
          47,
          16,
          31,
          41,
          22,
          49,
          51,
          52,
          36,
          22,
          27,
          24,
          35,
          2,
          13,
          57,
          43,
          48,
          37
         ],
         "yaxis": "y"
        }
       ],
       "layout": {
        "legend": {
         "tracegroupgap": 0
        },
        "margin": {
         "t": 60
        },
        "template": {
         "data": {
          "bar": [
           {
            "error_x": {
             "color": "#2a3f5f"
            },
            "error_y": {
             "color": "#2a3f5f"
            },
            "marker": {
             "line": {
              "color": "#E5ECF6",
              "width": 0.5
             },
             "pattern": {
              "fillmode": "overlay",
              "size": 10,
              "solidity": 0.2
             }
            },
            "type": "bar"
           }
          ],
          "barpolar": [
           {
            "marker": {
             "line": {
              "color": "#E5ECF6",
              "width": 0.5
             },
             "pattern": {
              "fillmode": "overlay",
              "size": 10,
              "solidity": 0.2
             }
            },
            "type": "barpolar"
           }
          ],
          "carpet": [
           {
            "aaxis": {
             "endlinecolor": "#2a3f5f",
             "gridcolor": "white",
             "linecolor": "white",
             "minorgridcolor": "white",
             "startlinecolor": "#2a3f5f"
            },
            "baxis": {
             "endlinecolor": "#2a3f5f",
             "gridcolor": "white",
             "linecolor": "white",
             "minorgridcolor": "white",
             "startlinecolor": "#2a3f5f"
            },
            "type": "carpet"
           }
          ],
          "choropleth": [
           {
            "colorbar": {
             "outlinewidth": 0,
             "ticks": ""
            },
            "type": "choropleth"
           }
          ],
          "contour": [
           {
            "colorbar": {
             "outlinewidth": 0,
             "ticks": ""
            },
            "colorscale": [
             [
              0,
              "#0d0887"
             ],
             [
              0.1111111111111111,
              "#46039f"
             ],
             [
              0.2222222222222222,
              "#7201a8"
             ],
             [
              0.3333333333333333,
              "#9c179e"
             ],
             [
              0.4444444444444444,
              "#bd3786"
             ],
             [
              0.5555555555555556,
              "#d8576b"
             ],
             [
              0.6666666666666666,
              "#ed7953"
             ],
             [
              0.7777777777777778,
              "#fb9f3a"
             ],
             [
              0.8888888888888888,
              "#fdca26"
             ],
             [
              1,
              "#f0f921"
             ]
            ],
            "type": "contour"
           }
          ],
          "contourcarpet": [
           {
            "colorbar": {
             "outlinewidth": 0,
             "ticks": ""
            },
            "type": "contourcarpet"
           }
          ],
          "heatmap": [
           {
            "colorbar": {
             "outlinewidth": 0,
             "ticks": ""
            },
            "colorscale": [
             [
              0,
              "#0d0887"
             ],
             [
              0.1111111111111111,
              "#46039f"
             ],
             [
              0.2222222222222222,
              "#7201a8"
             ],
             [
              0.3333333333333333,
              "#9c179e"
             ],
             [
              0.4444444444444444,
              "#bd3786"
             ],
             [
              0.5555555555555556,
              "#d8576b"
             ],
             [
              0.6666666666666666,
              "#ed7953"
             ],
             [
              0.7777777777777778,
              "#fb9f3a"
             ],
             [
              0.8888888888888888,
              "#fdca26"
             ],
             [
              1,
              "#f0f921"
             ]
            ],
            "type": "heatmap"
           }
          ],
          "heatmapgl": [
           {
            "colorbar": {
             "outlinewidth": 0,
             "ticks": ""
            },
            "colorscale": [
             [
              0,
              "#0d0887"
             ],
             [
              0.1111111111111111,
              "#46039f"
             ],
             [
              0.2222222222222222,
              "#7201a8"
             ],
             [
              0.3333333333333333,
              "#9c179e"
             ],
             [
              0.4444444444444444,
              "#bd3786"
             ],
             [
              0.5555555555555556,
              "#d8576b"
             ],
             [
              0.6666666666666666,
              "#ed7953"
             ],
             [
              0.7777777777777778,
              "#fb9f3a"
             ],
             [
              0.8888888888888888,
              "#fdca26"
             ],
             [
              1,
              "#f0f921"
             ]
            ],
            "type": "heatmapgl"
           }
          ],
          "histogram": [
           {
            "marker": {
             "pattern": {
              "fillmode": "overlay",
              "size": 10,
              "solidity": 0.2
             }
            },
            "type": "histogram"
           }
          ],
          "histogram2d": [
           {
            "colorbar": {
             "outlinewidth": 0,
             "ticks": ""
            },
            "colorscale": [
             [
              0,
              "#0d0887"
             ],
             [
              0.1111111111111111,
              "#46039f"
             ],
             [
              0.2222222222222222,
              "#7201a8"
             ],
             [
              0.3333333333333333,
              "#9c179e"
             ],
             [
              0.4444444444444444,
              "#bd3786"
             ],
             [
              0.5555555555555556,
              "#d8576b"
             ],
             [
              0.6666666666666666,
              "#ed7953"
             ],
             [
              0.7777777777777778,
              "#fb9f3a"
             ],
             [
              0.8888888888888888,
              "#fdca26"
             ],
             [
              1,
              "#f0f921"
             ]
            ],
            "type": "histogram2d"
           }
          ],
          "histogram2dcontour": [
           {
            "colorbar": {
             "outlinewidth": 0,
             "ticks": ""
            },
            "colorscale": [
             [
              0,
              "#0d0887"
             ],
             [
              0.1111111111111111,
              "#46039f"
             ],
             [
              0.2222222222222222,
              "#7201a8"
             ],
             [
              0.3333333333333333,
              "#9c179e"
             ],
             [
              0.4444444444444444,
              "#bd3786"
             ],
             [
              0.5555555555555556,
              "#d8576b"
             ],
             [
              0.6666666666666666,
              "#ed7953"
             ],
             [
              0.7777777777777778,
              "#fb9f3a"
             ],
             [
              0.8888888888888888,
              "#fdca26"
             ],
             [
              1,
              "#f0f921"
             ]
            ],
            "type": "histogram2dcontour"
           }
          ],
          "mesh3d": [
           {
            "colorbar": {
             "outlinewidth": 0,
             "ticks": ""
            },
            "type": "mesh3d"
           }
          ],
          "parcoords": [
           {
            "line": {
             "colorbar": {
              "outlinewidth": 0,
              "ticks": ""
             }
            },
            "type": "parcoords"
           }
          ],
          "pie": [
           {
            "automargin": true,
            "type": "pie"
           }
          ],
          "scatter": [
           {
            "fillpattern": {
             "fillmode": "overlay",
             "size": 10,
             "solidity": 0.2
            },
            "type": "scatter"
           }
          ],
          "scatter3d": [
           {
            "line": {
             "colorbar": {
              "outlinewidth": 0,
              "ticks": ""
             }
            },
            "marker": {
             "colorbar": {
              "outlinewidth": 0,
              "ticks": ""
             }
            },
            "type": "scatter3d"
           }
          ],
          "scattercarpet": [
           {
            "marker": {
             "colorbar": {
              "outlinewidth": 0,
              "ticks": ""
             }
            },
            "type": "scattercarpet"
           }
          ],
          "scattergeo": [
           {
            "marker": {
             "colorbar": {
              "outlinewidth": 0,
              "ticks": ""
             }
            },
            "type": "scattergeo"
           }
          ],
          "scattergl": [
           {
            "marker": {
             "colorbar": {
              "outlinewidth": 0,
              "ticks": ""
             }
            },
            "type": "scattergl"
           }
          ],
          "scattermapbox": [
           {
            "marker": {
             "colorbar": {
              "outlinewidth": 0,
              "ticks": ""
             }
            },
            "type": "scattermapbox"
           }
          ],
          "scatterpolar": [
           {
            "marker": {
             "colorbar": {
              "outlinewidth": 0,
              "ticks": ""
             }
            },
            "type": "scatterpolar"
           }
          ],
          "scatterpolargl": [
           {
            "marker": {
             "colorbar": {
              "outlinewidth": 0,
              "ticks": ""
             }
            },
            "type": "scatterpolargl"
           }
          ],
          "scatterternary": [
           {
            "marker": {
             "colorbar": {
              "outlinewidth": 0,
              "ticks": ""
             }
            },
            "type": "scatterternary"
           }
          ],
          "surface": [
           {
            "colorbar": {
             "outlinewidth": 0,
             "ticks": ""
            },
            "colorscale": [
             [
              0,
              "#0d0887"
             ],
             [
              0.1111111111111111,
              "#46039f"
             ],
             [
              0.2222222222222222,
              "#7201a8"
             ],
             [
              0.3333333333333333,
              "#9c179e"
             ],
             [
              0.4444444444444444,
              "#bd3786"
             ],
             [
              0.5555555555555556,
              "#d8576b"
             ],
             [
              0.6666666666666666,
              "#ed7953"
             ],
             [
              0.7777777777777778,
              "#fb9f3a"
             ],
             [
              0.8888888888888888,
              "#fdca26"
             ],
             [
              1,
              "#f0f921"
             ]
            ],
            "type": "surface"
           }
          ],
          "table": [
           {
            "cells": {
             "fill": {
              "color": "#EBF0F8"
             },
             "line": {
              "color": "white"
             }
            },
            "header": {
             "fill": {
              "color": "#C8D4E3"
             },
             "line": {
              "color": "white"
             }
            },
            "type": "table"
           }
          ]
         },
         "layout": {
          "annotationdefaults": {
           "arrowcolor": "#2a3f5f",
           "arrowhead": 0,
           "arrowwidth": 1
          },
          "autotypenumbers": "strict",
          "coloraxis": {
           "colorbar": {
            "outlinewidth": 0,
            "ticks": ""
           }
          },
          "colorscale": {
           "diverging": [
            [
             0,
             "#8e0152"
            ],
            [
             0.1,
             "#c51b7d"
            ],
            [
             0.2,
             "#de77ae"
            ],
            [
             0.3,
             "#f1b6da"
            ],
            [
             0.4,
             "#fde0ef"
            ],
            [
             0.5,
             "#f7f7f7"
            ],
            [
             0.6,
             "#e6f5d0"
            ],
            [
             0.7,
             "#b8e186"
            ],
            [
             0.8,
             "#7fbc41"
            ],
            [
             0.9,
             "#4d9221"
            ],
            [
             1,
             "#276419"
            ]
           ],
           "sequential": [
            [
             0,
             "#0d0887"
            ],
            [
             0.1111111111111111,
             "#46039f"
            ],
            [
             0.2222222222222222,
             "#7201a8"
            ],
            [
             0.3333333333333333,
             "#9c179e"
            ],
            [
             0.4444444444444444,
             "#bd3786"
            ],
            [
             0.5555555555555556,
             "#d8576b"
            ],
            [
             0.6666666666666666,
             "#ed7953"
            ],
            [
             0.7777777777777778,
             "#fb9f3a"
            ],
            [
             0.8888888888888888,
             "#fdca26"
            ],
            [
             1,
             "#f0f921"
            ]
           ],
           "sequentialminus": [
            [
             0,
             "#0d0887"
            ],
            [
             0.1111111111111111,
             "#46039f"
            ],
            [
             0.2222222222222222,
             "#7201a8"
            ],
            [
             0.3333333333333333,
             "#9c179e"
            ],
            [
             0.4444444444444444,
             "#bd3786"
            ],
            [
             0.5555555555555556,
             "#d8576b"
            ],
            [
             0.6666666666666666,
             "#ed7953"
            ],
            [
             0.7777777777777778,
             "#fb9f3a"
            ],
            [
             0.8888888888888888,
             "#fdca26"
            ],
            [
             1,
             "#f0f921"
            ]
           ]
          },
          "colorway": [
           "#636efa",
           "#EF553B",
           "#00cc96",
           "#ab63fa",
           "#FFA15A",
           "#19d3f3",
           "#FF6692",
           "#B6E880",
           "#FF97FF",
           "#FECB52"
          ],
          "font": {
           "color": "#2a3f5f"
          },
          "geo": {
           "bgcolor": "white",
           "lakecolor": "white",
           "landcolor": "#E5ECF6",
           "showlakes": true,
           "showland": true,
           "subunitcolor": "white"
          },
          "hoverlabel": {
           "align": "left"
          },
          "hovermode": "closest",
          "mapbox": {
           "style": "light"
          },
          "paper_bgcolor": "white",
          "plot_bgcolor": "#E5ECF6",
          "polar": {
           "angularaxis": {
            "gridcolor": "white",
            "linecolor": "white",
            "ticks": ""
           },
           "bgcolor": "#E5ECF6",
           "radialaxis": {
            "gridcolor": "white",
            "linecolor": "white",
            "ticks": ""
           }
          },
          "scene": {
           "xaxis": {
            "backgroundcolor": "#E5ECF6",
            "gridcolor": "white",
            "gridwidth": 2,
            "linecolor": "white",
            "showbackground": true,
            "ticks": "",
            "zerolinecolor": "white"
           },
           "yaxis": {
            "backgroundcolor": "#E5ECF6",
            "gridcolor": "white",
            "gridwidth": 2,
            "linecolor": "white",
            "showbackground": true,
            "ticks": "",
            "zerolinecolor": "white"
           },
           "zaxis": {
            "backgroundcolor": "#E5ECF6",
            "gridcolor": "white",
            "gridwidth": 2,
            "linecolor": "white",
            "showbackground": true,
            "ticks": "",
            "zerolinecolor": "white"
           }
          },
          "shapedefaults": {
           "line": {
            "color": "#2a3f5f"
           }
          },
          "ternary": {
           "aaxis": {
            "gridcolor": "white",
            "linecolor": "white",
            "ticks": ""
           },
           "baxis": {
            "gridcolor": "white",
            "linecolor": "white",
            "ticks": ""
           },
           "bgcolor": "#E5ECF6",
           "caxis": {
            "gridcolor": "white",
            "linecolor": "white",
            "ticks": ""
           }
          },
          "title": {
           "x": 0.05
          },
          "xaxis": {
           "automargin": true,
           "gridcolor": "white",
           "linecolor": "white",
           "ticks": "",
           "title": {
            "standoff": 15
           },
           "zerolinecolor": "white",
           "zerolinewidth": 2
          },
          "yaxis": {
           "automargin": true,
           "gridcolor": "white",
           "linecolor": "white",
           "ticks": "",
           "title": {
            "standoff": 15
           },
           "zerolinecolor": "white",
           "zerolinewidth": 2
          }
         }
        },
        "xaxis": {
         "anchor": "y",
         "domain": [
          0,
          1
         ],
         "title": {
          "text": "Seasons Overall #"
         }
        },
        "yaxis": {
         "anchor": "x",
         "domain": [
          0,
          1
         ],
         "title": {
          "text": "Regular Season Current Season W"
         }
        }
       }
      }
     },
     "metadata": {},
     "output_type": "display_data"
    }
   ],
   "source": [
    "import plotly.express as px\n",
    "px.scatter(first_season_head_coaches, x='Seasons Overall #', y='Regular Season Current Season W')"
   ]
  }
 ],
 "metadata": {
  "kernelspec": {
   "display_name": "Python 3",
   "language": "python",
   "name": "python3"
  },
  "language_info": {
   "codemirror_mode": {
    "name": "ipython",
    "version": 3
   },
   "file_extension": ".py",
   "mimetype": "text/x-python",
   "name": "python",
   "nbconvert_exporter": "python",
   "pygments_lexer": "ipython3",
   "version": "3.10.2"
  },
  "orig_nbformat": 4
 },
 "nbformat": 4,
 "nbformat_minor": 2
}
